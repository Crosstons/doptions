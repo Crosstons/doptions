{
 "cells": [
  {
   "cell_type": "code",
   "execution_count": 23,
   "id": "fb0a05ef",
   "metadata": {},
   "outputs": [
    {
     "name": "stdout",
     "output_type": "stream",
     "text": [
      "Requirement already satisfied: giza-datasets in c:\\users\\sakshi panchal\\anaconda3\\lib\\site-packages (0.3.1)\n",
      "Requirement already satisfied: gcsfs<2024.0.0,>=2023.12.2.post1 in c:\\users\\sakshi panchal\\anaconda3\\lib\\site-packages (from giza-datasets) (2023.12.2.post1)\n",
      "Requirement already satisfied: polars<1,>=0 in c:\\users\\sakshi panchal\\anaconda3\\lib\\site-packages (from giza-datasets) (0.20.30)\n",
      "Requirement already satisfied: pyarrow<16,>=15 in c:\\users\\sakshi panchal\\anaconda3\\lib\\site-packages (from giza-datasets) (15.0.2)\n",
      "Requirement already satisfied: pydantic<3,>=2 in c:\\users\\sakshi panchal\\anaconda3\\lib\\site-packages (from giza-datasets) (2.7.2)\n",
      "Requirement already satisfied: rich<14,>=13 in c:\\users\\sakshi panchal\\anaconda3\\lib\\site-packages (from giza-datasets) (13.7.1)\n",
      "Requirement already satisfied: aiohttp!=4.0.0a0,!=4.0.0a1 in c:\\users\\sakshi panchal\\anaconda3\\lib\\site-packages (from gcsfs<2024.0.0,>=2023.12.2.post1->giza-datasets) (3.8.5)\n",
      "Requirement already satisfied: decorator>4.1.2 in c:\\users\\sakshi panchal\\anaconda3\\lib\\site-packages (from gcsfs<2024.0.0,>=2023.12.2.post1->giza-datasets) (5.1.1)\n",
      "Requirement already satisfied: fsspec==2023.12.2 in c:\\users\\sakshi panchal\\anaconda3\\lib\\site-packages (from gcsfs<2024.0.0,>=2023.12.2.post1->giza-datasets) (2023.12.2)\n",
      "Requirement already satisfied: google-auth>=1.2 in c:\\users\\sakshi panchal\\anaconda3\\lib\\site-packages (from gcsfs<2024.0.0,>=2023.12.2.post1->giza-datasets) (2.29.0)\n",
      "Requirement already satisfied: google-auth-oauthlib in c:\\users\\sakshi panchal\\anaconda3\\lib\\site-packages (from gcsfs<2024.0.0,>=2023.12.2.post1->giza-datasets) (1.2.0)\n",
      "Requirement already satisfied: google-cloud-storage in c:\\users\\sakshi panchal\\anaconda3\\lib\\site-packages (from gcsfs<2024.0.0,>=2023.12.2.post1->giza-datasets) (2.16.0)\n",
      "Requirement already satisfied: requests in c:\\users\\sakshi panchal\\anaconda3\\lib\\site-packages (from gcsfs<2024.0.0,>=2023.12.2.post1->giza-datasets) (2.31.0)\n",
      "Requirement already satisfied: numpy<2,>=1.16.6 in c:\\users\\sakshi panchal\\anaconda3\\lib\\site-packages (from pyarrow<16,>=15->giza-datasets) (1.24.3)\n",
      "Requirement already satisfied: annotated-types>=0.4.0 in c:\\users\\sakshi panchal\\anaconda3\\lib\\site-packages (from pydantic<3,>=2->giza-datasets) (0.7.0)\n",
      "Requirement already satisfied: pydantic-core==2.18.3 in c:\\users\\sakshi panchal\\anaconda3\\lib\\site-packages (from pydantic<3,>=2->giza-datasets) (2.18.3)\n",
      "Requirement already satisfied: typing-extensions>=4.6.1 in c:\\users\\sakshi panchal\\anaconda3\\lib\\site-packages (from pydantic<3,>=2->giza-datasets) (4.7.1)\n",
      "Requirement already satisfied: markdown-it-py>=2.2.0 in c:\\users\\sakshi panchal\\anaconda3\\lib\\site-packages (from rich<14,>=13->giza-datasets) (2.2.0)\n",
      "Requirement already satisfied: pygments<3.0.0,>=2.13.0 in c:\\users\\sakshi panchal\\anaconda3\\lib\\site-packages (from rich<14,>=13->giza-datasets) (2.15.1)\n",
      "Requirement already satisfied: attrs>=17.3.0 in c:\\users\\sakshi panchal\\anaconda3\\lib\\site-packages (from aiohttp!=4.0.0a0,!=4.0.0a1->gcsfs<2024.0.0,>=2023.12.2.post1->giza-datasets) (22.1.0)\n",
      "Requirement already satisfied: charset-normalizer<4.0,>=2.0 in c:\\users\\sakshi panchal\\anaconda3\\lib\\site-packages (from aiohttp!=4.0.0a0,!=4.0.0a1->gcsfs<2024.0.0,>=2023.12.2.post1->giza-datasets) (2.0.4)\n",
      "Requirement already satisfied: multidict<7.0,>=4.5 in c:\\users\\sakshi panchal\\anaconda3\\lib\\site-packages (from aiohttp!=4.0.0a0,!=4.0.0a1->gcsfs<2024.0.0,>=2023.12.2.post1->giza-datasets) (6.0.2)\n",
      "Requirement already satisfied: async-timeout<5.0,>=4.0.0a3 in c:\\users\\sakshi panchal\\anaconda3\\lib\\site-packages (from aiohttp!=4.0.0a0,!=4.0.0a1->gcsfs<2024.0.0,>=2023.12.2.post1->giza-datasets) (4.0.2)\n",
      "Requirement already satisfied: yarl<2.0,>=1.0 in c:\\users\\sakshi panchal\\anaconda3\\lib\\site-packages (from aiohttp!=4.0.0a0,!=4.0.0a1->gcsfs<2024.0.0,>=2023.12.2.post1->giza-datasets) (1.8.1)\n",
      "Requirement already satisfied: frozenlist>=1.1.1 in c:\\users\\sakshi panchal\\anaconda3\\lib\\site-packages (from aiohttp!=4.0.0a0,!=4.0.0a1->gcsfs<2024.0.0,>=2023.12.2.post1->giza-datasets) (1.3.3)\n",
      "Requirement already satisfied: aiosignal>=1.1.2 in c:\\users\\sakshi panchal\\anaconda3\\lib\\site-packages (from aiohttp!=4.0.0a0,!=4.0.0a1->gcsfs<2024.0.0,>=2023.12.2.post1->giza-datasets) (1.2.0)\n",
      "Requirement already satisfied: cachetools<6.0,>=2.0.0 in c:\\users\\sakshi panchal\\anaconda3\\lib\\site-packages (from google-auth>=1.2->gcsfs<2024.0.0,>=2023.12.2.post1->giza-datasets) (5.3.3)\n",
      "Requirement already satisfied: pyasn1-modules>=0.2.1 in c:\\users\\sakshi panchal\\anaconda3\\lib\\site-packages (from google-auth>=1.2->gcsfs<2024.0.0,>=2023.12.2.post1->giza-datasets) (0.2.8)\n",
      "Requirement already satisfied: rsa<5,>=3.1.4 in c:\\users\\sakshi panchal\\anaconda3\\lib\\site-packages (from google-auth>=1.2->gcsfs<2024.0.0,>=2023.12.2.post1->giza-datasets) (4.9)\n",
      "Requirement already satisfied: mdurl~=0.1 in c:\\users\\sakshi panchal\\anaconda3\\lib\\site-packages (from markdown-it-py>=2.2.0->rich<14,>=13->giza-datasets) (0.1.0)\n",
      "Requirement already satisfied: requests-oauthlib>=0.7.0 in c:\\users\\sakshi panchal\\anaconda3\\lib\\site-packages (from google-auth-oauthlib->gcsfs<2024.0.0,>=2023.12.2.post1->giza-datasets) (2.0.0)\n",
      "Requirement already satisfied: google-api-core<3.0.0dev,>=2.15.0 in c:\\users\\sakshi panchal\\anaconda3\\lib\\site-packages (from google-cloud-storage->gcsfs<2024.0.0,>=2023.12.2.post1->giza-datasets) (2.19.0)\n",
      "Requirement already satisfied: google-cloud-core<3.0dev,>=2.3.0 in c:\\users\\sakshi panchal\\anaconda3\\lib\\site-packages (from google-cloud-storage->gcsfs<2024.0.0,>=2023.12.2.post1->giza-datasets) (2.4.1)\n",
      "Requirement already satisfied: google-resumable-media>=2.6.0 in c:\\users\\sakshi panchal\\anaconda3\\lib\\site-packages (from google-cloud-storage->gcsfs<2024.0.0,>=2023.12.2.post1->giza-datasets) (2.7.0)\n",
      "Requirement already satisfied: google-crc32c<2.0dev,>=1.0 in c:\\users\\sakshi panchal\\anaconda3\\lib\\site-packages (from google-cloud-storage->gcsfs<2024.0.0,>=2023.12.2.post1->giza-datasets) (1.5.0)\n",
      "Requirement already satisfied: idna<4,>=2.5 in c:\\users\\sakshi panchal\\anaconda3\\lib\\site-packages (from requests->gcsfs<2024.0.0,>=2023.12.2.post1->giza-datasets) (3.4)\n",
      "Requirement already satisfied: urllib3<3,>=1.21.1 in c:\\users\\sakshi panchal\\anaconda3\\lib\\site-packages (from requests->gcsfs<2024.0.0,>=2023.12.2.post1->giza-datasets) (1.26.16)\n",
      "Requirement already satisfied: certifi>=2017.4.17 in c:\\users\\sakshi panchal\\anaconda3\\lib\\site-packages (from requests->gcsfs<2024.0.0,>=2023.12.2.post1->giza-datasets) (2023.7.22)\n",
      "Requirement already satisfied: googleapis-common-protos<2.0.dev0,>=1.56.2 in c:\\users\\sakshi panchal\\anaconda3\\lib\\site-packages (from google-api-core<3.0.0dev,>=2.15.0->google-cloud-storage->gcsfs<2024.0.0,>=2023.12.2.post1->giza-datasets) (1.63.0)\n",
      "Requirement already satisfied: protobuf!=3.20.0,!=3.20.1,!=4.21.0,!=4.21.1,!=4.21.2,!=4.21.3,!=4.21.4,!=4.21.5,<5.0.0.dev0,>=3.19.5 in c:\\users\\sakshi panchal\\anaconda3\\lib\\site-packages (from google-api-core<3.0.0dev,>=2.15.0->google-cloud-storage->gcsfs<2024.0.0,>=2023.12.2.post1->giza-datasets) (4.25.3)\n",
      "Requirement already satisfied: proto-plus<2.0.0dev,>=1.22.3 in c:\\users\\sakshi panchal\\anaconda3\\lib\\site-packages (from google-api-core<3.0.0dev,>=2.15.0->google-cloud-storage->gcsfs<2024.0.0,>=2023.12.2.post1->giza-datasets) (1.23.0)\n",
      "Requirement already satisfied: pyasn1<0.5.0,>=0.4.6 in c:\\users\\sakshi panchal\\anaconda3\\lib\\site-packages (from pyasn1-modules>=0.2.1->google-auth>=1.2->gcsfs<2024.0.0,>=2023.12.2.post1->giza-datasets) (0.4.8)\n",
      "Requirement already satisfied: oauthlib>=3.0.0 in c:\\users\\sakshi panchal\\anaconda3\\lib\\site-packages (from requests-oauthlib>=0.7.0->google-auth-oauthlib->gcsfs<2024.0.0,>=2023.12.2.post1->giza-datasets) (3.2.2)\n",
      "Collecting git+https://github.com/gizatechxyz/datasets\n",
      "  Cloning https://github.com/gizatechxyz/datasets to c:\\users\\sakshi panchal\\appdata\\local\\temp\\pip-req-build-cvojyozn\n",
      "  Resolved https://github.com/gizatechxyz/datasets to commit 5dcfb1c8c615d130bb5381798428534633f51337\n",
      "  Installing build dependencies: started\n",
      "  Installing build dependencies: finished with status 'done'\n",
      "  Getting requirements to build wheel: started\n",
      "  Getting requirements to build wheel: finished with status 'done'\n",
      "  Preparing metadata (pyproject.toml): started\n",
      "  Preparing metadata (pyproject.toml): finished with status 'done'\n",
      "Requirement already satisfied: gcsfs<2024.0.0,>=2023.12.2.post1 in c:\\users\\sakshi panchal\\anaconda3\\lib\\site-packages (from giza-datasets==0.3.1) (2023.12.2.post1)\n",
      "Requirement already satisfied: polars<1,>=0 in c:\\users\\sakshi panchal\\anaconda3\\lib\\site-packages (from giza-datasets==0.3.1) (0.20.30)\n",
      "Requirement already satisfied: pyarrow<16,>=15 in c:\\users\\sakshi panchal\\anaconda3\\lib\\site-packages (from giza-datasets==0.3.1) (15.0.2)\n",
      "Requirement already satisfied: pydantic<3,>=2 in c:\\users\\sakshi panchal\\anaconda3\\lib\\site-packages (from giza-datasets==0.3.1) (2.7.2)\n",
      "Requirement already satisfied: rich<14,>=13 in c:\\users\\sakshi panchal\\anaconda3\\lib\\site-packages (from giza-datasets==0.3.1) (13.7.1)\n",
      "Requirement already satisfied: aiohttp!=4.0.0a0,!=4.0.0a1 in c:\\users\\sakshi panchal\\anaconda3\\lib\\site-packages (from gcsfs<2024.0.0,>=2023.12.2.post1->giza-datasets==0.3.1) (3.8.5)\n",
      "Requirement already satisfied: decorator>4.1.2 in c:\\users\\sakshi panchal\\anaconda3\\lib\\site-packages (from gcsfs<2024.0.0,>=2023.12.2.post1->giza-datasets==0.3.1) (5.1.1)\n",
      "Requirement already satisfied: fsspec==2023.12.2 in c:\\users\\sakshi panchal\\anaconda3\\lib\\site-packages (from gcsfs<2024.0.0,>=2023.12.2.post1->giza-datasets==0.3.1) (2023.12.2)\n",
      "Requirement already satisfied: google-auth>=1.2 in c:\\users\\sakshi panchal\\anaconda3\\lib\\site-packages (from gcsfs<2024.0.0,>=2023.12.2.post1->giza-datasets==0.3.1) (2.29.0)\n",
      "Requirement already satisfied: google-auth-oauthlib in c:\\users\\sakshi panchal\\anaconda3\\lib\\site-packages (from gcsfs<2024.0.0,>=2023.12.2.post1->giza-datasets==0.3.1) (1.2.0)\n",
      "Requirement already satisfied: google-cloud-storage in c:\\users\\sakshi panchal\\anaconda3\\lib\\site-packages (from gcsfs<2024.0.0,>=2023.12.2.post1->giza-datasets==0.3.1) (2.16.0)\n",
      "Requirement already satisfied: requests in c:\\users\\sakshi panchal\\anaconda3\\lib\\site-packages (from gcsfs<2024.0.0,>=2023.12.2.post1->giza-datasets==0.3.1) (2.31.0)\n",
      "Requirement already satisfied: numpy<2,>=1.16.6 in c:\\users\\sakshi panchal\\anaconda3\\lib\\site-packages (from pyarrow<16,>=15->giza-datasets==0.3.1) (1.24.3)\n",
      "Requirement already satisfied: annotated-types>=0.4.0 in c:\\users\\sakshi panchal\\anaconda3\\lib\\site-packages (from pydantic<3,>=2->giza-datasets==0.3.1) (0.7.0)\n",
      "Requirement already satisfied: pydantic-core==2.18.3 in c:\\users\\sakshi panchal\\anaconda3\\lib\\site-packages (from pydantic<3,>=2->giza-datasets==0.3.1) (2.18.3)\n",
      "Requirement already satisfied: typing-extensions>=4.6.1 in c:\\users\\sakshi panchal\\anaconda3\\lib\\site-packages (from pydantic<3,>=2->giza-datasets==0.3.1) (4.7.1)\n",
      "Requirement already satisfied: markdown-it-py>=2.2.0 in c:\\users\\sakshi panchal\\anaconda3\\lib\\site-packages (from rich<14,>=13->giza-datasets==0.3.1) (2.2.0)\n",
      "Requirement already satisfied: pygments<3.0.0,>=2.13.0 in c:\\users\\sakshi panchal\\anaconda3\\lib\\site-packages (from rich<14,>=13->giza-datasets==0.3.1) (2.15.1)\n",
      "Requirement already satisfied: attrs>=17.3.0 in c:\\users\\sakshi panchal\\anaconda3\\lib\\site-packages (from aiohttp!=4.0.0a0,!=4.0.0a1->gcsfs<2024.0.0,>=2023.12.2.post1->giza-datasets==0.3.1) (22.1.0)\n",
      "Requirement already satisfied: charset-normalizer<4.0,>=2.0 in c:\\users\\sakshi panchal\\anaconda3\\lib\\site-packages (from aiohttp!=4.0.0a0,!=4.0.0a1->gcsfs<2024.0.0,>=2023.12.2.post1->giza-datasets==0.3.1) (2.0.4)\n",
      "Requirement already satisfied: multidict<7.0,>=4.5 in c:\\users\\sakshi panchal\\anaconda3\\lib\\site-packages (from aiohttp!=4.0.0a0,!=4.0.0a1->gcsfs<2024.0.0,>=2023.12.2.post1->giza-datasets==0.3.1) (6.0.2)\n",
      "Requirement already satisfied: async-timeout<5.0,>=4.0.0a3 in c:\\users\\sakshi panchal\\anaconda3\\lib\\site-packages (from aiohttp!=4.0.0a0,!=4.0.0a1->gcsfs<2024.0.0,>=2023.12.2.post1->giza-datasets==0.3.1) (4.0.2)\n",
      "Requirement already satisfied: yarl<2.0,>=1.0 in c:\\users\\sakshi panchal\\anaconda3\\lib\\site-packages (from aiohttp!=4.0.0a0,!=4.0.0a1->gcsfs<2024.0.0,>=2023.12.2.post1->giza-datasets==0.3.1) (1.8.1)\n",
      "Requirement already satisfied: frozenlist>=1.1.1 in c:\\users\\sakshi panchal\\anaconda3\\lib\\site-packages (from aiohttp!=4.0.0a0,!=4.0.0a1->gcsfs<2024.0.0,>=2023.12.2.post1->giza-datasets==0.3.1) (1.3.3)\n",
      "Requirement already satisfied: aiosignal>=1.1.2 in c:\\users\\sakshi panchal\\anaconda3\\lib\\site-packages (from aiohttp!=4.0.0a0,!=4.0.0a1->gcsfs<2024.0.0,>=2023.12.2.post1->giza-datasets==0.3.1) (1.2.0)\n",
      "Requirement already satisfied: cachetools<6.0,>=2.0.0 in c:\\users\\sakshi panchal\\anaconda3\\lib\\site-packages (from google-auth>=1.2->gcsfs<2024.0.0,>=2023.12.2.post1->giza-datasets==0.3.1) (5.3.3)\n",
      "Requirement already satisfied: pyasn1-modules>=0.2.1 in c:\\users\\sakshi panchal\\anaconda3\\lib\\site-packages (from google-auth>=1.2->gcsfs<2024.0.0,>=2023.12.2.post1->giza-datasets==0.3.1) (0.2.8)\n",
      "Requirement already satisfied: rsa<5,>=3.1.4 in c:\\users\\sakshi panchal\\anaconda3\\lib\\site-packages (from google-auth>=1.2->gcsfs<2024.0.0,>=2023.12.2.post1->giza-datasets==0.3.1) (4.9)\n",
      "Requirement already satisfied: mdurl~=0.1 in c:\\users\\sakshi panchal\\anaconda3\\lib\\site-packages (from markdown-it-py>=2.2.0->rich<14,>=13->giza-datasets==0.3.1) (0.1.0)\n",
      "Requirement already satisfied: requests-oauthlib>=0.7.0 in c:\\users\\sakshi panchal\\anaconda3\\lib\\site-packages (from google-auth-oauthlib->gcsfs<2024.0.0,>=2023.12.2.post1->giza-datasets==0.3.1) (2.0.0)\n",
      "Requirement already satisfied: google-api-core<3.0.0dev,>=2.15.0 in c:\\users\\sakshi panchal\\anaconda3\\lib\\site-packages (from google-cloud-storage->gcsfs<2024.0.0,>=2023.12.2.post1->giza-datasets==0.3.1) (2.19.0)\n",
      "Requirement already satisfied: google-cloud-core<3.0dev,>=2.3.0 in c:\\users\\sakshi panchal\\anaconda3\\lib\\site-packages (from google-cloud-storage->gcsfs<2024.0.0,>=2023.12.2.post1->giza-datasets==0.3.1) (2.4.1)\n",
      "Requirement already satisfied: google-resumable-media>=2.6.0 in c:\\users\\sakshi panchal\\anaconda3\\lib\\site-packages (from google-cloud-storage->gcsfs<2024.0.0,>=2023.12.2.post1->giza-datasets==0.3.1) (2.7.0)\n",
      "Requirement already satisfied: google-crc32c<2.0dev,>=1.0 in c:\\users\\sakshi panchal\\anaconda3\\lib\\site-packages (from google-cloud-storage->gcsfs<2024.0.0,>=2023.12.2.post1->giza-datasets==0.3.1) (1.5.0)\n",
      "Requirement already satisfied: idna<4,>=2.5 in c:\\users\\sakshi panchal\\anaconda3\\lib\\site-packages (from requests->gcsfs<2024.0.0,>=2023.12.2.post1->giza-datasets==0.3.1) (3.4)\n",
      "Requirement already satisfied: urllib3<3,>=1.21.1 in c:\\users\\sakshi panchal\\anaconda3\\lib\\site-packages (from requests->gcsfs<2024.0.0,>=2023.12.2.post1->giza-datasets==0.3.1) (1.26.16)\n",
      "Requirement already satisfied: certifi>=2017.4.17 in c:\\users\\sakshi panchal\\anaconda3\\lib\\site-packages (from requests->gcsfs<2024.0.0,>=2023.12.2.post1->giza-datasets==0.3.1) (2023.7.22)\n",
      "Requirement already satisfied: googleapis-common-protos<2.0.dev0,>=1.56.2 in c:\\users\\sakshi panchal\\anaconda3\\lib\\site-packages (from google-api-core<3.0.0dev,>=2.15.0->google-cloud-storage->gcsfs<2024.0.0,>=2023.12.2.post1->giza-datasets==0.3.1) (1.63.0)\n",
      "Requirement already satisfied: protobuf!=3.20.0,!=3.20.1,!=4.21.0,!=4.21.1,!=4.21.2,!=4.21.3,!=4.21.4,!=4.21.5,<5.0.0.dev0,>=3.19.5 in c:\\users\\sakshi panchal\\anaconda3\\lib\\site-packages (from google-api-core<3.0.0dev,>=2.15.0->google-cloud-storage->gcsfs<2024.0.0,>=2023.12.2.post1->giza-datasets==0.3.1) (4.25.3)\n",
      "Requirement already satisfied: proto-plus<2.0.0dev,>=1.22.3 in c:\\users\\sakshi panchal\\anaconda3\\lib\\site-packages (from google-api-core<3.0.0dev,>=2.15.0->google-cloud-storage->gcsfs<2024.0.0,>=2023.12.2.post1->giza-datasets==0.3.1) (1.23.0)\n",
      "Requirement already satisfied: pyasn1<0.5.0,>=0.4.6 in c:\\users\\sakshi panchal\\anaconda3\\lib\\site-packages (from pyasn1-modules>=0.2.1->google-auth>=1.2->gcsfs<2024.0.0,>=2023.12.2.post1->giza-datasets==0.3.1) (0.4.8)\n",
      "Requirement already satisfied: oauthlib>=3.0.0 in c:\\users\\sakshi panchal\\anaconda3\\lib\\site-packages (from requests-oauthlib>=0.7.0->google-auth-oauthlib->gcsfs<2024.0.0,>=2023.12.2.post1->giza-datasets==0.3.1) (3.2.2)\n"
     ]
    },
    {
     "name": "stderr",
     "output_type": "stream",
     "text": [
      "  Running command git clone --filter=blob:none --quiet https://github.com/gizatechxyz/datasets 'C:\\Users\\sakshi panchal\\AppData\\Local\\Temp\\pip-req-build-cvojyozn'\n"
     ]
    },
    {
     "name": "stdout",
     "output_type": "stream",
     "text": [
      "Requirement already satisfied: xgboost in c:\\users\\sakshi panchal\\anaconda3\\lib\\site-packages (2.0.3)\n",
      "Requirement already satisfied: numpy in c:\\users\\sakshi panchal\\anaconda3\\lib\\site-packages (from xgboost) (1.24.3)\n",
      "Requirement already satisfied: scipy in c:\\users\\sakshi panchal\\anaconda3\\lib\\site-packages (from xgboost) (1.11.1)\n",
      "Requirement already satisfied: scikit-learn in c:\\users\\sakshi panchal\\anaconda3\\lib\\site-packages (1.3.0)\n",
      "Requirement already satisfied: numpy>=1.17.3 in c:\\users\\sakshi panchal\\anaconda3\\lib\\site-packages (from scikit-learn) (1.24.3)\n",
      "Requirement already satisfied: scipy>=1.5.0 in c:\\users\\sakshi panchal\\anaconda3\\lib\\site-packages (from scikit-learn) (1.11.1)\n",
      "Requirement already satisfied: joblib>=1.1.1 in c:\\users\\sakshi panchal\\anaconda3\\lib\\site-packages (from scikit-learn) (1.2.0)\n",
      "Requirement already satisfied: threadpoolctl>=2.0.0 in c:\\users\\sakshi panchal\\anaconda3\\lib\\site-packages (from scikit-learn) (2.2.0)\n",
      "Requirement already satisfied: polars in c:\\users\\sakshi panchal\\anaconda3\\lib\\site-packages (0.20.30)\n"
     ]
    }
   ],
   "source": [
    "!pip install giza-datasets\n",
    "!pip install git+https://github.com/gizatechxyz/datasets\n",
    "!pip install xgboost\n",
    "!pip install scikit-learn\n",
    "!pip install polars\n"
   ]
  },
  {
   "cell_type": "code",
   "execution_count": 24,
   "id": "6b4a6f36",
   "metadata": {},
   "outputs": [],
   "source": [
    "import os\n",
    "import certifi\n",
    "import polars as pl\n",
    "import pandas as pd\n",
    "from giza.datasets import DatasetsHub, DatasetsLoader\n",
    "from sklearn.model_selection import train_test_split\n",
    "from sklearn.metrics import accuracy_score, classification_report\n",
    "import xgboost as xgb\n",
    "import datetime\n",
    "\n",
    "# Set SSL_CERT_FILE environment variable\n",
    "os.environ['SSL_CERT_FILE'] = certifi.where()\n"
   ]
  },
  {
   "cell_type": "code",
   "execution_count": 25,
   "id": "8c6d2d6b",
   "metadata": {},
   "outputs": [
    {
     "name": "stdout",
     "output_type": "stream",
     "text": [
      "['Morpho-aavev3', 'Yearn-finance', 'Optimism', 'flamincome', 'coinwind', 'Gnosis', 'Binance-staked-eth', 'Avalanche', 'lido', 'Origin-ether', 'compound-v2', 'Balancer-v1', 'Radiant-v2', 'Deposits', 'sushiswap', 'balancer-v2', 'Polygon', 'DEX', 'Thorchain', 'Borrows & Deposits', 'pancakeswap-amm', 'Multi-chain', 'Morpho-aave', 'Pancakeswap-amm', 'Frax-ether', 'Beefy', 'curve-dex', 'Swap Fees', 'PancakeSwap', 'Fees', 'Yearn-v2', 'Yield', 'beefy', 'Mcap', 'Flamincome', 'Aura', 'pendle', 'Farcaster', 'yearn-finance', 'Pendle', 'rocket-pool', 'aave-v3', 'Arbitrum', 'Sommelier', 'Uniswap-v3', 'Sushiswap', 'Dexes', 'Compound-v3', 'Liquiditations', 'Spark', 'Mantle-staked-eth', 'Lending', 'APY', 'Benqi-lending', 'Aave-v2', 'Curve', 'Penpie', 'TVL', 'Trade Volume', 'Yield Aggregator', 'uniswap-v2', 'Coinwind', 'Lido', 'Ethereum', 'Token Price', 'Balancer-v2', 'DeFi', 'uniswap-v3', 'benqi-lending', 'Pancakeswap-amm-v3', 'Compound-v2', 'Liquid Staking', 'price', 'Convex-finance', 'Aave-v3', 'daily', 'Liquidity', 'convex-finance', 'Interest Rates', 'aura', 'Stakestone', 'Curve-dex', 'Withdraws', 'Base', 'aave-v2', 'aggregated', 'Lens', 'Social', 'Rocket-pool', 'Uniswap-v2']\n",
      "Dataset read from cache.\n",
      "Loading dataset tokens-ohcl from cache.\n",
      "Dataset read from cache.\n",
      "Loading dataset tokens-daily-prices-mcap-volume from cache.\n",
      "Dataset read from cache.\n",
      "Loading dataset top-pools-apy-per-protocol from cache.\n",
      "Dataset read from cache.\n",
      "Loading dataset tvl-per-project-tokens/project=lido from cache.\n",
      "        date       Open       High        Low      Close token       date  \\\n",
      "0 2019-02-03  3438.3604  3472.2433  3438.3604  3461.0583  WBTC 2019-02-01   \n",
      "1 2019-02-07  3468.1600  3486.4073  3425.8603  3425.8603  WBTC 2019-02-02   \n",
      "2 2019-02-11  3387.7629  3770.3402  3387.7629  3770.3402  WBTC 2019-02-03   \n",
      "3 2019-02-15  3605.9233  3652.9015  3605.5237  3605.5237  WBTC 2019-02-04   \n",
      "4 2019-02-19  3613.8624  3831.3850  3613.8624  3831.3850  WBTC 2019-02-05   \n",
      "\n",
      "         price  market_cap  volumes_last_24h  ... underlying_token     chain  \\\n",
      "0  3438.360403         0.0      20589.040403  ...            STETH  Ethereum   \n",
      "1  3472.243307         0.0      12576.723906  ...            STETH  Ethereum   \n",
      "2  3461.058341         0.0       1852.526033  ...            STETH  Ethereum   \n",
      "3  3468.160040         0.0       7029.292885  ...            STETH  Ethereum   \n",
      "4  3476.127865         0.0       3544.645877  ...            STETH  Ethereum   \n",
      "\n",
      "   DOT  KSM LUNC MATIC SOL          WETH       date  project  \n",
      "0  NaN  NaN  NaN   NaN NaN  1.484681e+06 2020-12-19     lido  \n",
      "1  NaN  NaN  NaN   NaN NaN  2.697598e+06 2020-12-20     lido  \n",
      "2  NaN  NaN  NaN   NaN NaN  3.410254e+06 2020-12-21     lido  \n",
      "3  NaN  NaN  NaN   NaN NaN  4.563626e+06 2020-12-22     lido  \n",
      "4  NaN  NaN  NaN   NaN NaN  4.661611e+06 2020-12-23     lido  \n",
      "\n",
      "[5 rows x 25 columns]\n"
     ]
    }
   ],
   "source": [
    "# Initialize the DatasetsHub and DatasetsLoader\n",
    "hub = DatasetsHub()\n",
    "loader = DatasetsLoader()\n",
    "\n",
    "# List available tags and datasets\n",
    "print(hub.list_tags())\n",
    "\n",
    "# Load the specific datasets\n",
    "datasets = ['tokens-ohcl', 'tokens-daily-prices-mcap-volume', 'top-pools-apy-per-protocol', 'tvl-per-project-tokens/project=lido']\n",
    "dfs = []\n",
    "for dataset_name in datasets:\n",
    "    df = loader.load(dataset_name)\n",
    "    dfs.append(df.to_pandas())  # Convert to pandas DataFrame for convenience\n",
    "\n",
    "# Combine datasets into a single DataFrame (Example concatenation, adjust based on your actual schema)\n",
    "df_combined = pd.concat(dfs, axis=1)\n",
    "print(df_combined.head())\n"
   ]
  },
  {
   "cell_type": "code",
   "execution_count": 26,
   "id": "0c9df0b9",
   "metadata": {
    "scrolled": true
   },
   "outputs": [
    {
     "name": "stdout",
     "output_type": "stream",
     "text": [
      "Index(['date', 'Open', 'High', 'Low', 'Close', 'token', 'date', 'price',\n",
      "       'market_cap', 'volumes_last_24h', 'token', 'date', 'tvlUsd', 'apy',\n",
      "       'project', 'underlying_token', 'chain', 'DOT', 'KSM', 'LUNC', 'MATIC',\n",
      "       'SOL', 'WETH', 'date', 'project'],\n",
      "      dtype='object')\n"
     ]
    }
   ],
   "source": [
    "# Check the column names\n",
    "print(df_combined.columns)\n",
    "\n",
    "# Rename duplicate columns to avoid conflicts\n",
    "df_combined.columns = ['date1', 'Open', 'High', 'Low', 'Close', 'token1', 'date2', 'price',\n",
    "                       'market_cap', 'volumes_last_24h', 'token2', 'date3', 'tvlUsd', 'apy',\n",
    "                       'project1', 'underlying_token', 'chain', 'DOT', 'KSM', 'LUNC', 'MATIC',\n",
    "                       'SOL', 'WETH', 'date4', 'project2']\n",
    "\n",
    "# Example feature engineering; adjust based on your dataset\n",
    "df_combined['date1'] = pd.to_datetime(df_combined['date1'])\n",
    "df_combined['day_of_week'] = df_combined['date1'].dt.dayofweek\n",
    "df_combined['month'] = df_combined['date1'].dt.month\n",
    "\n",
    "# Dummy target variable for illustration purposes\n",
    "df_combined['target'] = (df_combined['price'] > df_combined['price'].median()).astype(int)\n",
    "\n",
    "# Define features and target\n",
    "features = df_combined[['day_of_week', 'month', 'price', 'market_cap', 'volumes_last_24h', 'tvlUsd', 'apy']]\n",
    "target = df_combined['target']\n"
   ]
  },
  {
   "cell_type": "code",
   "execution_count": 27,
   "id": "c781727c",
   "metadata": {},
   "outputs": [],
   "source": [
    "# Split the data into training and testing sets\n",
    "X_train, X_test, y_train, y_test = train_test_split(features, target, test_size=0.3, random_state=42)\n"
   ]
  },
  {
   "cell_type": "code",
   "execution_count": 28,
   "id": "2227abe9",
   "metadata": {},
   "outputs": [
    {
     "data": {
      "text/html": [
       "<style>#sk-container-id-3 {color: black;}#sk-container-id-3 pre{padding: 0;}#sk-container-id-3 div.sk-toggleable {background-color: white;}#sk-container-id-3 label.sk-toggleable__label {cursor: pointer;display: block;width: 100%;margin-bottom: 0;padding: 0.3em;box-sizing: border-box;text-align: center;}#sk-container-id-3 label.sk-toggleable__label-arrow:before {content: \"▸\";float: left;margin-right: 0.25em;color: #696969;}#sk-container-id-3 label.sk-toggleable__label-arrow:hover:before {color: black;}#sk-container-id-3 div.sk-estimator:hover label.sk-toggleable__label-arrow:before {color: black;}#sk-container-id-3 div.sk-toggleable__content {max-height: 0;max-width: 0;overflow: hidden;text-align: left;background-color: #f0f8ff;}#sk-container-id-3 div.sk-toggleable__content pre {margin: 0.2em;color: black;border-radius: 0.25em;background-color: #f0f8ff;}#sk-container-id-3 input.sk-toggleable__control:checked~div.sk-toggleable__content {max-height: 200px;max-width: 100%;overflow: auto;}#sk-container-id-3 input.sk-toggleable__control:checked~label.sk-toggleable__label-arrow:before {content: \"▾\";}#sk-container-id-3 div.sk-estimator input.sk-toggleable__control:checked~label.sk-toggleable__label {background-color: #d4ebff;}#sk-container-id-3 div.sk-label input.sk-toggleable__control:checked~label.sk-toggleable__label {background-color: #d4ebff;}#sk-container-id-3 input.sk-hidden--visually {border: 0;clip: rect(1px 1px 1px 1px);clip: rect(1px, 1px, 1px, 1px);height: 1px;margin: -1px;overflow: hidden;padding: 0;position: absolute;width: 1px;}#sk-container-id-3 div.sk-estimator {font-family: monospace;background-color: #f0f8ff;border: 1px dotted black;border-radius: 0.25em;box-sizing: border-box;margin-bottom: 0.5em;}#sk-container-id-3 div.sk-estimator:hover {background-color: #d4ebff;}#sk-container-id-3 div.sk-parallel-item::after {content: \"\";width: 100%;border-bottom: 1px solid gray;flex-grow: 1;}#sk-container-id-3 div.sk-label:hover label.sk-toggleable__label {background-color: #d4ebff;}#sk-container-id-3 div.sk-serial::before {content: \"\";position: absolute;border-left: 1px solid gray;box-sizing: border-box;top: 0;bottom: 0;left: 50%;z-index: 0;}#sk-container-id-3 div.sk-serial {display: flex;flex-direction: column;align-items: center;background-color: white;padding-right: 0.2em;padding-left: 0.2em;position: relative;}#sk-container-id-3 div.sk-item {position: relative;z-index: 1;}#sk-container-id-3 div.sk-parallel {display: flex;align-items: stretch;justify-content: center;background-color: white;position: relative;}#sk-container-id-3 div.sk-item::before, #sk-container-id-3 div.sk-parallel-item::before {content: \"\";position: absolute;border-left: 1px solid gray;box-sizing: border-box;top: 0;bottom: 0;left: 50%;z-index: -1;}#sk-container-id-3 div.sk-parallel-item {display: flex;flex-direction: column;z-index: 1;position: relative;background-color: white;}#sk-container-id-3 div.sk-parallel-item:first-child::after {align-self: flex-end;width: 50%;}#sk-container-id-3 div.sk-parallel-item:last-child::after {align-self: flex-start;width: 50%;}#sk-container-id-3 div.sk-parallel-item:only-child::after {width: 0;}#sk-container-id-3 div.sk-dashed-wrapped {border: 1px dashed gray;margin: 0 0.4em 0.5em 0.4em;box-sizing: border-box;padding-bottom: 0.4em;background-color: white;}#sk-container-id-3 div.sk-label label {font-family: monospace;font-weight: bold;display: inline-block;line-height: 1.2em;}#sk-container-id-3 div.sk-label-container {text-align: center;}#sk-container-id-3 div.sk-container {/* jupyter's `normalize.less` sets `[hidden] { display: none; }` but bootstrap.min.css set `[hidden] { display: none !important; }` so we also need the `!important` here to be able to override the default hidden behavior on the sphinx rendered scikit-learn.org. See: https://github.com/scikit-learn/scikit-learn/issues/21755 */display: inline-block !important;position: relative;}#sk-container-id-3 div.sk-text-repr-fallback {display: none;}</style><div id=\"sk-container-id-3\" class=\"sk-top-container\"><div class=\"sk-text-repr-fallback\"><pre>XGBClassifier(base_score=None, booster=None, callbacks=None,\n",
       "              colsample_bylevel=None, colsample_bynode=None,\n",
       "              colsample_bytree=0.8, device=None, early_stopping_rounds=None,\n",
       "              enable_categorical=False, eta=0.1, eval_metric=None,\n",
       "              feature_types=None, gamma=None, grow_policy=None,\n",
       "              importance_type=None, interaction_constraints=None,\n",
       "              learning_rate=None, max_bin=None, max_cat_threshold=None,\n",
       "              max_cat_to_onehot=None, max_delta_step=None, max_depth=6,\n",
       "              max_leaves=None, min_child_weight=None, missing=nan,\n",
       "              monotone_constraints=None, multi_strategy=None, n_estimators=100,\n",
       "              n_jobs=None, num_parallel_tree=None, ...)</pre><b>In a Jupyter environment, please rerun this cell to show the HTML representation or trust the notebook. <br />On GitHub, the HTML representation is unable to render, please try loading this page with nbviewer.org.</b></div><div class=\"sk-container\" hidden><div class=\"sk-item\"><div class=\"sk-estimator sk-toggleable\"><input class=\"sk-toggleable__control sk-hidden--visually\" id=\"sk-estimator-id-3\" type=\"checkbox\" checked><label for=\"sk-estimator-id-3\" class=\"sk-toggleable__label sk-toggleable__label-arrow\">XGBClassifier</label><div class=\"sk-toggleable__content\"><pre>XGBClassifier(base_score=None, booster=None, callbacks=None,\n",
       "              colsample_bylevel=None, colsample_bynode=None,\n",
       "              colsample_bytree=0.8, device=None, early_stopping_rounds=None,\n",
       "              enable_categorical=False, eta=0.1, eval_metric=None,\n",
       "              feature_types=None, gamma=None, grow_policy=None,\n",
       "              importance_type=None, interaction_constraints=None,\n",
       "              learning_rate=None, max_bin=None, max_cat_threshold=None,\n",
       "              max_cat_to_onehot=None, max_delta_step=None, max_depth=6,\n",
       "              max_leaves=None, min_child_weight=None, missing=nan,\n",
       "              monotone_constraints=None, multi_strategy=None, n_estimators=100,\n",
       "              n_jobs=None, num_parallel_tree=None, ...)</pre></div></div></div></div></div>"
      ],
      "text/plain": [
       "XGBClassifier(base_score=None, booster=None, callbacks=None,\n",
       "              colsample_bylevel=None, colsample_bynode=None,\n",
       "              colsample_bytree=0.8, device=None, early_stopping_rounds=None,\n",
       "              enable_categorical=False, eta=0.1, eval_metric=None,\n",
       "              feature_types=None, gamma=None, grow_policy=None,\n",
       "              importance_type=None, interaction_constraints=None,\n",
       "              learning_rate=None, max_bin=None, max_cat_threshold=None,\n",
       "              max_cat_to_onehot=None, max_delta_step=None, max_depth=6,\n",
       "              max_leaves=None, min_child_weight=None, missing=nan,\n",
       "              monotone_constraints=None, multi_strategy=None, n_estimators=100,\n",
       "              n_jobs=None, num_parallel_tree=None, ...)"
      ]
     },
     "execution_count": 28,
     "metadata": {},
     "output_type": "execute_result"
    }
   ],
   "source": [
    "# Initialize the XGBoost model with additional parameters\n",
    "model = xgb.XGBClassifier(\n",
    "    objective='binary:logistic',\n",
    "    random_state=42,\n",
    "    eta=0.1,\n",
    "    max_depth=6,\n",
    "    subsample=0.8,\n",
    "    colsample_bytree=0.8,\n",
    "    n_estimators=100\n",
    ")\n",
    "\n",
    "# Train the model\n",
    "model.fit(X_train, y_train)\n"
   ]
  },
  {
   "cell_type": "code",
   "execution_count": 29,
   "id": "80ca3319",
   "metadata": {},
   "outputs": [
    {
     "name": "stdout",
     "output_type": "stream",
     "text": [
      "Model Accuracy: 0.9998220046723774\n",
      "Classification Report:\n",
      "              precision    recall  f1-score   support\n",
      "\n",
      "           0       1.00      1.00      1.00     37573\n",
      "           1       1.00      1.00      1.00      7372\n",
      "\n",
      "    accuracy                           1.00     44945\n",
      "   macro avg       1.00      1.00      1.00     44945\n",
      "weighted avg       1.00      1.00      1.00     44945\n",
      "\n"
     ]
    }
   ],
   "source": [
    "# Make predictions on the test set\n",
    "predictions = model.predict(X_test)\n",
    "\n",
    "# Calculate the accuracy\n",
    "accuracy = accuracy_score(y_test, predictions)\n",
    "print(f\"Model Accuracy: {accuracy}\")\n",
    "\n",
    "# Generate a classification report\n",
    "report = classification_report(y_test, predictions)\n",
    "print(\"Classification Report:\")\n",
    "print(report)\n"
   ]
  },
  {
   "cell_type": "code",
   "execution_count": 30,
   "id": "0e16456a",
   "metadata": {},
   "outputs": [],
   "source": [
    "# Save the model to a file\n",
    "#model.save_model('model.json')\n"
   ]
  },
  {
   "cell_type": "code",
   "execution_count": 31,
   "id": "2fe7a35d",
   "metadata": {},
   "outputs": [
    {
     "name": "stdout",
     "output_type": "stream",
     "text": [
      "Enter the amount to be invested: 20000\n",
      "Enter the list of volatilities (comma separated): 0.4,0.1\n",
      "Enter the duration of investment in days: 15\n",
      "Enter your target return percentage: 10\n",
      "Enter your risk tolerance (low, medium, high): low\n",
      "The agent suggests to watch based on the provided inputs.\n"
     ]
    }
   ],
   "source": [
    "\n",
    "investment_amount = float(input(\"Enter the amount to be invested: \"))\n",
    "volatility_list = input(\"Enter the list of volatilities (comma separated): \").split(',')\n",
    "duration = int(input(\"Enter the duration of investment in days: \"))\n",
    "target_return = float(input(\"Enter your target return percentage: \"))\n",
    "risk_tolerance = input(\"Enter your risk tolerance (low, medium, high): \")\n",
    "\n",
    "# Example processing of the volatility list\n",
    "avg_volatility = sum(map(float, volatility_list)) / len(volatility_list)\n",
    "\n",
    "# Create a sample input based on user inputs and existing features\n",
    "sample_input = pd.DataFrame({\n",
    "    'day_of_week': [datetime.datetime.now().weekday()],\n",
    "    'month': [datetime.datetime.now().month],\n",
    "    'price': [df_combined['price'].median()],\n",
    "    'market_cap': [df_combined['market_cap'].median()],\n",
    "    'volumes_last_24h': [df_combined['volumes_last_24h'].median()],\n",
    "    'tvlUsd': [df_combined['tvlUsd'].median()],\n",
    "    'apy': [df_combined['apy'].median()],\n",
    "    'amount_to_invest': [investment_amount],\n",
    "    'duration_of_investment': [duration],\n",
    "    'volatility': [avg_volatility]\n",
    "})\n",
    "\n",
    "# Ensure the sample_input matches the features used in training\n",
    "sample_input = sample_input[features.columns]\n",
    "\n",
    "# Make prediction\n",
    "prediction = model.predict(sample_input)\n",
    "probabilities = model.predict_proba(sample_input)\n",
    "\n",
    "# Determine action based on prediction and probabilities\n",
    "if probabilities[0][1] > 0.7:  # High confidence buy\n",
    "    action = 'buy'\n",
    "elif probabilities[0][0] > 0.7:  # High confidence sell\n",
    "    action = 'sell'\n",
    "else:  # Low confidence, suggest watching\n",
    "    action = 'watch'\n",
    "\n",
    "print(f\"The agent suggests to {action} based on the provided inputs.\")"
   ]
  },
  {
   "cell_type": "code",
   "execution_count": null,
   "id": "0611a493",
   "metadata": {},
   "outputs": [],
   "source": []
  },
  {
   "cell_type": "code",
   "execution_count": null,
   "id": "520e7a2d",
   "metadata": {},
   "outputs": [],
   "source": []
  },
  {
   "cell_type": "code",
   "execution_count": null,
   "id": "4a24a474",
   "metadata": {},
   "outputs": [],
   "source": []
  }
 ],
 "metadata": {
  "kernelspec": {
   "display_name": "Python 3 (ipykernel)",
   "language": "python",
   "name": "python3"
  },
  "language_info": {
   "codemirror_mode": {
    "name": "ipython",
    "version": 3
   },
   "file_extension": ".py",
   "mimetype": "text/x-python",
   "name": "python",
   "nbconvert_exporter": "python",
   "pygments_lexer": "ipython3",
   "version": "3.11.5"
  }
 },
 "nbformat": 4,
 "nbformat_minor": 5
}
